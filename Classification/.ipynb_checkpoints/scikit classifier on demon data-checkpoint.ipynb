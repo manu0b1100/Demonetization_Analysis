{
 "cells": [
  {
   "cell_type": "code",
   "execution_count": 1,
   "metadata": {
    "collapsed": true
   },
   "outputs": [],
   "source": [
    "%config IPCompleter.greedy=True"
   ]
  },
  {
   "cell_type": "code",
   "execution_count": 2,
   "metadata": {
    "collapsed": false
   },
   "outputs": [
    {
     "name": "stderr",
     "output_type": "stream",
     "text": [
      "/home/manobhav/anaconda3/lib/python3.6/site-packages/sklearn/cross_validation.py:44: DeprecationWarning: This module was deprecated in version 0.18 in favor of the model_selection module into which all the refactored classes and functions are moved. Also note that the interface of the new CV iterators are different from that of this module. This module will be removed in 0.20.\n",
      "  \"This module will be removed in 0.20.\", DeprecationWarning)\n"
     ]
    }
   ],
   "source": [
    "import pandas as pd\n",
    "import numpy as np\n",
    "import nltk\n",
    "import string\n",
    "import matplotlib.pyplot as plt\n",
    "from sklearn.feature_extraction.text import TfidfTransformer\n",
    "from sklearn.feature_extraction.text import CountVectorizer\n",
    "from sklearn.cross_validation import train_test_split\n",
    "from sklearn.metrics import confusion_matrix\n",
    "from sklearn import metrics\n",
    "from sklearn.metrics import roc_curve, auc\n",
    "from nltk.stem.porter import PorterStemmer"
   ]
  },
  {
   "cell_type": "markdown",
   "metadata": {},
   "source": [
    "Loading Training Data, Dropping Duplicate Rows"
   ]
  },
  {
   "cell_type": "code",
   "execution_count": 3,
   "metadata": {
    "collapsed": false
   },
   "outputs": [
    {
     "name": "stdout",
     "output_type": "stream",
     "text": [
      "article_body    172\n",
      "sentiment       172\n",
      "dtype: int64\n",
      "article_body    169\n",
      "sentiment       169\n",
      "dtype: int64\n"
     ]
    }
   ],
   "source": [
    "import os\n",
    "os.chdir('/home/manobhav/PycharmProjects/demonetisation analysis')\n",
    "data=pd.read_excel('Data/classification_data.xlsx')\n",
    "print(data.count())\n",
    "data.drop_duplicates(subset=['article_body'],inplace=True)\n",
    "print(data.count())"
   ]
  },
  {
   "cell_type": "code",
   "execution_count": 4,
   "metadata": {
    "collapsed": false,
    "scrolled": true
   },
   "outputs": [
    {
     "data": {
      "text/html": [
       "<div>\n",
       "<table border=\"1\" class=\"dataframe\">\n",
       "  <thead>\n",
       "    <tr style=\"text-align: right;\">\n",
       "      <th></th>\n",
       "      <th>article_body</th>\n",
       "      <th>sentiment</th>\n",
       "    </tr>\n",
       "  </thead>\n",
       "  <tbody>\n",
       "    <tr>\n",
       "      <th>0</th>\n",
       "      <td>The currency demonetization came as a surprise...</td>\n",
       "      <td>-1</td>\n",
       "    </tr>\n",
       "    <tr>\n",
       "      <th>1</th>\n",
       "      <td>CHENNAI: Travellers and tourists had a tough t...</td>\n",
       "      <td>-1</td>\n",
       "    </tr>\n",
       "    <tr>\n",
       "      <th>2</th>\n",
       "      <td>PANAJI: Fortunes of the five offshore casino o...</td>\n",
       "      <td>-1</td>\n",
       "    </tr>\n",
       "    <tr>\n",
       "      <th>3</th>\n",
       "      <td>Even as gold prices surged to a four-month hig...</td>\n",
       "      <td>-1</td>\n",
       "    </tr>\n",
       "    <tr>\n",
       "      <th>4</th>\n",
       "      <td>Nagpur: Like most parts of the country, the ci...</td>\n",
       "      <td>-1</td>\n",
       "    </tr>\n",
       "  </tbody>\n",
       "</table>\n",
       "</div>"
      ],
      "text/plain": [
       "                                        article_body  sentiment\n",
       "0  The currency demonetization came as a surprise...         -1\n",
       "1  CHENNAI: Travellers and tourists had a tough t...         -1\n",
       "2  PANAJI: Fortunes of the five offshore casino o...         -1\n",
       "3  Even as gold prices surged to a four-month hig...         -1\n",
       "4  Nagpur: Like most parts of the country, the ci...         -1"
      ]
     },
     "execution_count": 4,
     "metadata": {},
     "output_type": "execute_result"
    }
   ],
   "source": [
    "data.head()"
   ]
  },
  {
   "cell_type": "markdown",
   "metadata": {},
   "source": [
    "Sentiments defined manually"
   ]
  },
  {
   "cell_type": "code",
   "execution_count": 5,
   "metadata": {
    "collapsed": false,
    "scrolled": true
   },
   "outputs": [
    {
     "data": {
      "text/plain": [
       "-1    104\n",
       " 1     65\n",
       "Name: sentiment, dtype: int64"
      ]
     },
     "execution_count": 5,
     "metadata": {},
     "output_type": "execute_result"
    }
   ],
   "source": [
    "data.sentiment.value_counts()"
   ]
  },
  {
   "cell_type": "markdown",
   "metadata": {},
   "source": [
    "Splitting the data totrain test sets."
   ]
  },
  {
   "cell_type": "code",
   "execution_count": 6,
   "metadata": {
    "collapsed": false
   },
   "outputs": [],
   "source": [
    "body=data.article_body\n",
    "sentiment=data.sentiment\n",
    "X_train,X_test,y_train,y_test=train_test_split(body,sentiment,test_size=0.2,random_state=42)"
   ]
  },
  {
   "cell_type": "markdown",
   "metadata": {},
   "source": [
    "Cleaning the Training Data"
   ]
  },
  {
   "cell_type": "code",
   "execution_count": 7,
   "metadata": {
    "collapsed": false
   },
   "outputs": [],
   "source": [
    "stemmer=PorterStemmer()\n",
    "from nltk.corpus import stopwords\n",
    "def stem_tokens(tokens,stemmer):\n",
    "    stemmed=[]\n",
    "    for item in tokens:\n",
    "        stemmed.append(stemmer.stem(item))\n",
    "    return stemmed\n",
    "\n",
    "def tokenize(text):\n",
    "    tokens=nltk.word_tokenize(text)\n",
    "    tokens = [word for word in tokens if word not in stopwords.words('english')]\n",
    "    stems=stem_tokens(tokens,stemmer)\n",
    "    return ' '.join(stems)\n",
    "\n",
    "def clean(array):\n",
    "    corpus=[]\n",
    "    for text in array:\n",
    "        text=text.lower()\n",
    "        text=tokenize(text)\n",
    "        corpus.append(text)\n",
    "    return corpus\n",
    "\n",
    "corpus=clean(X_train)\n",
    "\n"
   ]
  },
  {
   "cell_type": "code",
   "execution_count": 8,
   "metadata": {
    "collapsed": false
   },
   "outputs": [],
   "source": [
    "count_vec=CountVectorizer()\n",
    "X_train_cv=count_vec.fit_transform(corpus)"
   ]
  },
  {
   "cell_type": "markdown",
   "metadata": {},
   "source": [
    "Converting into tfidf matrix"
   ]
  },
  {
   "cell_type": "code",
   "execution_count": 9,
   "metadata": {
    "collapsed": false
   },
   "outputs": [
    {
     "data": {
      "text/html": [
       "<div>\n",
       "<table border=\"1\" class=\"dataframe\">\n",
       "  <thead>\n",
       "    <tr style=\"text-align: right;\">\n",
       "      <th></th>\n",
       "      <th>00</th>\n",
       "      <th>000</th>\n",
       "      <th>01percentag</th>\n",
       "      <th>02</th>\n",
       "      <th>02celeb</th>\n",
       "      <th>03</th>\n",
       "      <th>04</th>\n",
       "      <th>05</th>\n",
       "      <th>06</th>\n",
       "      <th>062</th>\n",
       "      <th>...</th>\n",
       "      <th>ysr</th>\n",
       "      <th>yuvraj</th>\n",
       "      <th>zakir</th>\n",
       "      <th>zari</th>\n",
       "      <th>zaveri</th>\n",
       "      <th>zealous</th>\n",
       "      <th>zedong</th>\n",
       "      <th>zindagi</th>\n",
       "      <th>zo</th>\n",
       "      <th>zone</th>\n",
       "    </tr>\n",
       "  </thead>\n",
       "  <tbody>\n",
       "    <tr>\n",
       "      <th>0</th>\n",
       "      <td>0.0</td>\n",
       "      <td>0.035231</td>\n",
       "      <td>0.0</td>\n",
       "      <td>0.0</td>\n",
       "      <td>0.0</td>\n",
       "      <td>0.0</td>\n",
       "      <td>0.0</td>\n",
       "      <td>0.0</td>\n",
       "      <td>0.0</td>\n",
       "      <td>0.0</td>\n",
       "      <td>...</td>\n",
       "      <td>0.0</td>\n",
       "      <td>0.0</td>\n",
       "      <td>0.0</td>\n",
       "      <td>0.0</td>\n",
       "      <td>0.0</td>\n",
       "      <td>0.0</td>\n",
       "      <td>0.0</td>\n",
       "      <td>0.0</td>\n",
       "      <td>0.0</td>\n",
       "      <td>0.0</td>\n",
       "    </tr>\n",
       "    <tr>\n",
       "      <th>1</th>\n",
       "      <td>0.0</td>\n",
       "      <td>0.064435</td>\n",
       "      <td>0.0</td>\n",
       "      <td>0.0</td>\n",
       "      <td>0.0</td>\n",
       "      <td>0.0</td>\n",
       "      <td>0.0</td>\n",
       "      <td>0.0</td>\n",
       "      <td>0.0</td>\n",
       "      <td>0.0</td>\n",
       "      <td>...</td>\n",
       "      <td>0.0</td>\n",
       "      <td>0.0</td>\n",
       "      <td>0.0</td>\n",
       "      <td>0.0</td>\n",
       "      <td>0.0</td>\n",
       "      <td>0.0</td>\n",
       "      <td>0.0</td>\n",
       "      <td>0.0</td>\n",
       "      <td>0.0</td>\n",
       "      <td>0.0</td>\n",
       "    </tr>\n",
       "    <tr>\n",
       "      <th>2</th>\n",
       "      <td>0.0</td>\n",
       "      <td>0.099086</td>\n",
       "      <td>0.0</td>\n",
       "      <td>0.0</td>\n",
       "      <td>0.0</td>\n",
       "      <td>0.0</td>\n",
       "      <td>0.0</td>\n",
       "      <td>0.0</td>\n",
       "      <td>0.0</td>\n",
       "      <td>0.0</td>\n",
       "      <td>...</td>\n",
       "      <td>0.0</td>\n",
       "      <td>0.0</td>\n",
       "      <td>0.0</td>\n",
       "      <td>0.0</td>\n",
       "      <td>0.0</td>\n",
       "      <td>0.0</td>\n",
       "      <td>0.0</td>\n",
       "      <td>0.0</td>\n",
       "      <td>0.0</td>\n",
       "      <td>0.0</td>\n",
       "    </tr>\n",
       "    <tr>\n",
       "      <th>3</th>\n",
       "      <td>0.0</td>\n",
       "      <td>0.000000</td>\n",
       "      <td>0.0</td>\n",
       "      <td>0.0</td>\n",
       "      <td>0.0</td>\n",
       "      <td>0.0</td>\n",
       "      <td>0.0</td>\n",
       "      <td>0.0</td>\n",
       "      <td>0.0</td>\n",
       "      <td>0.0</td>\n",
       "      <td>...</td>\n",
       "      <td>0.0</td>\n",
       "      <td>0.0</td>\n",
       "      <td>0.0</td>\n",
       "      <td>0.0</td>\n",
       "      <td>0.0</td>\n",
       "      <td>0.0</td>\n",
       "      <td>0.0</td>\n",
       "      <td>0.0</td>\n",
       "      <td>0.0</td>\n",
       "      <td>0.0</td>\n",
       "    </tr>\n",
       "    <tr>\n",
       "      <th>4</th>\n",
       "      <td>0.0</td>\n",
       "      <td>0.022381</td>\n",
       "      <td>0.0</td>\n",
       "      <td>0.0</td>\n",
       "      <td>0.0</td>\n",
       "      <td>0.0</td>\n",
       "      <td>0.0</td>\n",
       "      <td>0.0</td>\n",
       "      <td>0.0</td>\n",
       "      <td>0.0</td>\n",
       "      <td>...</td>\n",
       "      <td>0.0</td>\n",
       "      <td>0.0</td>\n",
       "      <td>0.0</td>\n",
       "      <td>0.0</td>\n",
       "      <td>0.0</td>\n",
       "      <td>0.0</td>\n",
       "      <td>0.0</td>\n",
       "      <td>0.0</td>\n",
       "      <td>0.0</td>\n",
       "      <td>0.0</td>\n",
       "    </tr>\n",
       "  </tbody>\n",
       "</table>\n",
       "<p>5 rows × 5362 columns</p>\n",
       "</div>"
      ],
      "text/plain": [
       "    00       000  01percentag   02  02celeb   03   04   05   06  062  ...   \\\n",
       "0  0.0  0.035231          0.0  0.0      0.0  0.0  0.0  0.0  0.0  0.0  ...    \n",
       "1  0.0  0.064435          0.0  0.0      0.0  0.0  0.0  0.0  0.0  0.0  ...    \n",
       "2  0.0  0.099086          0.0  0.0      0.0  0.0  0.0  0.0  0.0  0.0  ...    \n",
       "3  0.0  0.000000          0.0  0.0      0.0  0.0  0.0  0.0  0.0  0.0  ...    \n",
       "4  0.0  0.022381          0.0  0.0      0.0  0.0  0.0  0.0  0.0  0.0  ...    \n",
       "\n",
       "   ysr  yuvraj  zakir  zari  zaveri  zealous  zedong  zindagi   zo  zone  \n",
       "0  0.0     0.0    0.0   0.0     0.0      0.0     0.0      0.0  0.0   0.0  \n",
       "1  0.0     0.0    0.0   0.0     0.0      0.0     0.0      0.0  0.0   0.0  \n",
       "2  0.0     0.0    0.0   0.0     0.0      0.0     0.0      0.0  0.0   0.0  \n",
       "3  0.0     0.0    0.0   0.0     0.0      0.0     0.0      0.0  0.0   0.0  \n",
       "4  0.0     0.0    0.0   0.0     0.0      0.0     0.0      0.0  0.0   0.0  \n",
       "\n",
       "[5 rows x 5362 columns]"
      ]
     },
     "execution_count": 9,
     "metadata": {},
     "output_type": "execute_result"
    }
   ],
   "source": [
    "tfidf_transformer = TfidfTransformer()\n",
    "X_train_tfidf = tfidf_transformer.fit_transform(X_train_cv)\n",
    "pd.DataFrame(X_train_tfidf.toarray(),columns=count_vec.get_feature_names()).head()"
   ]
  },
  {
   "cell_type": "markdown",
   "metadata": {},
   "source": [
    "Applying various classifiers and checking accuracy"
   ]
  },
  {
   "cell_type": "code",
   "execution_count": 10,
   "metadata": {
    "collapsed": true
   },
   "outputs": [],
   "source": [
    "prediction=dict()\n",
    "test_set=clean(X_test)\n",
    "X_test_tfidf=tfidf_transformer.transform(count_vec.transform(test_set))"
   ]
  },
  {
   "cell_type": "code",
   "execution_count": 11,
   "metadata": {
    "collapsed": true
   },
   "outputs": [],
   "source": [
    "from sklearn.naive_bayes import MultinomialNB\n",
    "model=MultinomialNB().fit(X_train_tfidf,y_train)\n",
    "prediction['Multinomial']=model.predict(X_test_tfidf)"
   ]
  },
  {
   "cell_type": "code",
   "execution_count": 12,
   "metadata": {
    "collapsed": true
   },
   "outputs": [],
   "source": [
    "from sklearn.naive_bayes import BernoulliNB\n",
    "model=BernoulliNB().fit(X_train_tfidf,y_train)\n",
    "prediction['Bernoulli']=model.predict(X_test_tfidf)"
   ]
  },
  {
   "cell_type": "code",
   "execution_count": 13,
   "metadata": {
    "collapsed": true
   },
   "outputs": [],
   "source": [
    "from sklearn import linear_model\n",
    "logreg=linear_model.LogisticRegression(C=1e5)\n",
    "logreg.fit(X_train_tfidf,y_train)\n",
    "prediction['Logistic']=logreg.predict(X_test_tfidf)"
   ]
  },
  {
   "cell_type": "code",
   "execution_count": 14,
   "metadata": {
    "collapsed": false
   },
   "outputs": [
    {
     "data": {
      "text/plain": [
       "0.73529411764705888"
      ]
     },
     "execution_count": 14,
     "metadata": {},
     "output_type": "execute_result"
    }
   ],
   "source": [
    "metrics.accuracy_score(y_test, prediction['Logistic'])"
   ]
  },
  {
   "cell_type": "code",
   "execution_count": 15,
   "metadata": {
    "collapsed": false
   },
   "outputs": [
    {
     "data": {
      "text/plain": [
       "0.61764705882352944"
      ]
     },
     "execution_count": 15,
     "metadata": {},
     "output_type": "execute_result"
    }
   ],
   "source": [
    "metrics.accuracy_score(y_test, prediction['Bernoulli'])"
   ]
  },
  {
   "cell_type": "code",
   "execution_count": 16,
   "metadata": {
    "collapsed": false
   },
   "outputs": [
    {
     "data": {
      "text/plain": [
       "0.58823529411764708"
      ]
     },
     "execution_count": 16,
     "metadata": {},
     "output_type": "execute_result"
    }
   ],
   "source": [
    "metrics.accuracy_score(y_test, prediction['Multinomial'])"
   ]
  },
  {
   "cell_type": "code",
   "execution_count": 17,
   "metadata": {
    "collapsed": false
   },
   "outputs": [
    {
     "name": "stdout",
     "output_type": "stream",
     "text": [
      "             precision    recall  f1-score   support\n",
      "\n",
      "         -1       0.72      0.90      0.80        20\n",
      "          1       0.78      0.50      0.61        14\n",
      "\n",
      "avg / total       0.74      0.74      0.72        34\n",
      "\n"
     ]
    }
   ],
   "source": [
    "print(metrics.classification_report(y_test, prediction['Logistic']))"
   ]
  },
  {
   "cell_type": "code",
   "execution_count": 18,
   "metadata": {
    "collapsed": false
   },
   "outputs": [
    {
     "data": {
      "image/png": "[encoded data removed]",
      "text/plain": [
       "<matplotlib.figure.Figure at 0x7fc90924bf98>"
      ]
     },
     "metadata": {},
     "output_type": "display_data"
    },
    {
     "data": {
      "image/png": "[encoded data removed]",
      "text/plain": [
       "<matplotlib.figure.Figure at 0x7fc9092bc828>"
      ]
     },
     "metadata": {},
     "output_type": "display_data"
    }
   ],
   "source": [
    "def plot_confusion_matrix(cm, title='Confusion matrix', cmap=plt.cm.Blues):\n",
    "    plt.imshow(cm, interpolation='nearest', cmap=cmap)\n",
    "    plt.title(title)\n",
    "    plt.colorbar()\n",
    "    tick_marks = np.arange(len(set(sentiment)))\n",
    "    plt.xticks(tick_marks, set(sentiment), rotation=45)\n",
    "    plt.yticks(tick_marks, set(sentiment))\n",
    "    plt.tight_layout()\n",
    "    plt.ylabel('True label')\n",
    "    plt.xlabel('Predicted label')\n",
    "    \n",
    "# Compute confusion matrix\n",
    "cm = confusion_matrix(y_test, prediction['Logistic'])\n",
    "np.set_printoptions(precision=2)\n",
    "plt.figure()\n",
    "plot_confusion_matrix(cm)    \n",
    "\n",
    "cm_normalized = cm.astype('float') / cm.sum(axis=1)[:, np.newaxis]\n",
    "plt.figure()\n",
    "plot_confusion_matrix(cm_normalized, title='Normalized confusion matrix')\n",
    "\n",
    "plt.show()"
   ]
  },
  {
   "cell_type": "code",
   "execution_count": 19,
   "metadata": {
    "collapsed": false
   },
   "outputs": [],
   "source": [
    "cmp=0\n",
    "colors=['b','g','y','m','k']\n",
    "\n",
    "for model,predicted in prediction.items():\n",
    "    false_p_rate,true_p_rate,threshold=roc_curve(y_test,predicted)\n",
    "    roc_auc=auc(false_p_rate,true_p_rate)\n",
    "    plt.plot(false_p_rate,true_p_rate,colors[cmp],label='%s: AUC %0.2f'% (model,roc_auc))\n",
    "    cmp+=1\n",
    "    \n",
    "    "
   ]
  },
  {
   "cell_type": "code",
   "execution_count": 20,
   "metadata": {
    "collapsed": false
   },
   "outputs": [
    {
     "data": {
      "image/png": "[encoded data removed]",
      "text/plain": [
       "<matplotlib.figure.Figure at 0x7fc909249940>"
      ]
     },
     "metadata": {},
     "output_type": "display_data"
    }
   ],
   "source": [
    "plt.title('Classifier comparison with ROC')\n",
    "plt.legend(loc='lower right')\n",
    "plt.plot([0,1],[0,1],'r--')\n",
    "plt.xlim([-0.1,1.2])\n",
    "plt.ylim([-0.1,1.2])\n",
    "plt.ylabel('True Positive Rate')\n",
    "plt.xlabel('False Positive rate')\n",
    "plt.show()"
   ]
  },
  {
   "cell_type": "code",
   "execution_count": 21,
   "metadata": {
    "collapsed": false
   },
   "outputs": [
    {
     "data": {
      "text/html": [
       "<div>\n",
       "<table border=\"1\" class=\"dataframe\">\n",
       "  <thead>\n",
       "    <tr style=\"text-align: right;\">\n",
       "      <th></th>\n",
       "      <th>Date</th>\n",
       "      <th>Heading</th>\n",
       "      <th>Article</th>\n",
       "      <th>Category</th>\n",
       "      <th>Paper</th>\n",
       "      <th>Link</th>\n",
       "      <th>City</th>\n",
       "      <th>Lat</th>\n",
       "      <th>Long</th>\n",
       "      <th>State</th>\n",
       "    </tr>\n",
       "  </thead>\n",
       "  <tbody>\n",
       "    <tr>\n",
       "      <th>0</th>\n",
       "      <td>2016-11-09 06:32:00</td>\n",
       "      <td>Currency demonetisation: RBI got 6 months to p...</td>\n",
       "      <td>NEW DELHI: Around six months ago, the governme...</td>\n",
       "      <td>business</td>\n",
       "      <td>toi</td>\n",
       "      <td>http://timesofindia.indiatimes.com//business/i...</td>\n",
       "      <td>NaN</td>\n",
       "      <td>NaN</td>\n",
       "      <td>NaN</td>\n",
       "      <td>NaN</td>\n",
       "    </tr>\n",
       "    <tr>\n",
       "      <th>1</th>\n",
       "      <td>2016-11-09 13:25:00</td>\n",
       "      <td>Demonetisation move to create corruption-free ...</td>\n",
       "      <td>NEW DELHI: The decision to scrap Rs 500 and Rs...</td>\n",
       "      <td>india</td>\n",
       "      <td>toi</td>\n",
       "      <td>http://timesofindia.indiatimes.com//india/Demo...</td>\n",
       "      <td>NaN</td>\n",
       "      <td>NaN</td>\n",
       "      <td>NaN</td>\n",
       "      <td>NaN</td>\n",
       "    </tr>\n",
       "    <tr>\n",
       "      <th>2</th>\n",
       "      <td>2016-11-09 11:14:00</td>\n",
       "      <td>Demonetisation leads to chaos on Delhi-Gurgaon...</td>\n",
       "      <td>GURUGRAM: The ban on Rs 500 and Rs 1000 curren...</td>\n",
       "      <td>city</td>\n",
       "      <td>toi</td>\n",
       "      <td>http://timesofindia.indiatimes.com//city/gurga...</td>\n",
       "      <td>gurgaon</td>\n",
       "      <td>28.459497</td>\n",
       "      <td>77.026638</td>\n",
       "      <td>Haryana</td>\n",
       "    </tr>\n",
       "    <tr>\n",
       "      <th>3</th>\n",
       "      <td>2016-11-10 12:28:00</td>\n",
       "      <td>Currency demonetization puts odds against casinos</td>\n",
       "      <td>PANAJI: Fortunes of the five offshore casino o...</td>\n",
       "      <td>city</td>\n",
       "      <td>toi</td>\n",
       "      <td>http://timesofindia.indiatimes.com//city/goa/C...</td>\n",
       "      <td>goa</td>\n",
       "      <td>15.299327</td>\n",
       "      <td>74.123996</td>\n",
       "      <td>Goa</td>\n",
       "    </tr>\n",
       "    <tr>\n",
       "      <th>4</th>\n",
       "      <td>2017-01-24 12:52:00</td>\n",
       "      <td>Kannada film shoots stalled because of demonet...</td>\n",
       "      <td>The currency demonetization came as a surprise...</td>\n",
       "      <td>entertainment</td>\n",
       "      <td>toi</td>\n",
       "      <td>http://timesofindia.indiatimes.com//entertainm...</td>\n",
       "      <td>NaN</td>\n",
       "      <td>NaN</td>\n",
       "      <td>NaN</td>\n",
       "      <td>NaN</td>\n",
       "    </tr>\n",
       "  </tbody>\n",
       "</table>\n",
       "</div>"
      ],
      "text/plain": [
       "                  Date                                            Heading  \\\n",
       "0  2016-11-09 06:32:00  Currency demonetisation: RBI got 6 months to p...   \n",
       "1  2016-11-09 13:25:00  Demonetisation move to create corruption-free ...   \n",
       "2  2016-11-09 11:14:00  Demonetisation leads to chaos on Delhi-Gurgaon...   \n",
       "3  2016-11-10 12:28:00  Currency demonetization puts odds against casinos   \n",
       "4  2017-01-24 12:52:00  Kannada film shoots stalled because of demonet...   \n",
       "\n",
       "                                             Article       Category Paper  \\\n",
       "0  NEW DELHI: Around six months ago, the governme...       business   toi   \n",
       "1  NEW DELHI: The decision to scrap Rs 500 and Rs...          india   toi   \n",
       "2  GURUGRAM: The ban on Rs 500 and Rs 1000 curren...           city   toi   \n",
       "3  PANAJI: Fortunes of the five offshore casino o...           city   toi   \n",
       "4  The currency demonetization came as a surprise...  entertainment   toi   \n",
       "\n",
       "                                                Link     City        Lat  \\\n",
       "0  http://timesofindia.indiatimes.com//business/i...      NaN        NaN   \n",
       "1  http://timesofindia.indiatimes.com//india/Demo...      NaN        NaN   \n",
       "2  http://timesofindia.indiatimes.com//city/gurga...  gurgaon  28.459497   \n",
       "3  http://timesofindia.indiatimes.com//city/goa/C...      goa  15.299327   \n",
       "4  http://timesofindia.indiatimes.com//entertainm...      NaN        NaN   \n",
       "\n",
       "        Long    State  \n",
       "0        NaN      NaN  \n",
       "1        NaN      NaN  \n",
       "2  77.026638  Haryana  \n",
       "3  74.123996      Goa  \n",
       "4        NaN      NaN  "
      ]
     },
     "execution_count": 21,
     "metadata": {},
     "output_type": "execute_result"
    }
   ],
   "source": [
    "frame=pd.read_csv('Data/demonetlatlong.csv')\n",
    "frame.head()"
   ]
  },
  {
   "cell_type": "code",
   "execution_count": 22,
   "metadata": {
    "collapsed": false,
    "scrolled": true
   },
   "outputs": [
    {
     "data": {
      "text/plain": [
       "Date        1841\n",
       "Heading     1828\n",
       "Article     1845\n",
       "Category    1832\n",
       "Paper       1847\n",
       "Link        1847\n",
       "City        1376\n",
       "Lat         1373\n",
       "Long        1373\n",
       "State       1362\n",
       "dtype: int64"
      ]
     },
     "execution_count": 22,
     "metadata": {},
     "output_type": "execute_result"
    }
   ],
   "source": [
    "frame.count()"
   ]
  },
  {
   "cell_type": "code",
   "execution_count": 23,
   "metadata": {
    "collapsed": false,
    "scrolled": true
   },
   "outputs": [
    {
     "data": {
      "text/plain": [
       "Date        1675\n",
       "Heading     1679\n",
       "Article     1679\n",
       "Category    1679\n",
       "Paper       1679\n",
       "Link        1679\n",
       "City        1235\n",
       "Lat         1232\n",
       "Long        1232\n",
       "State       1222\n",
       "dtype: int64"
      ]
     },
     "execution_count": 23,
     "metadata": {},
     "output_type": "execute_result"
    }
   ],
   "source": [
    "frame.drop_duplicates(subset=['Heading'],inplace=True)\n",
    "frame=frame[frame.Article.isnull()==False]\n",
    "frame.count()"
   ]
  },
  {
   "cell_type": "code",
   "execution_count": 24,
   "metadata": {
    "collapsed": false
   },
   "outputs": [],
   "source": [
    "mytest=clean(frame.Article)\n",
    "my_test_tfidf=tfidf_transformer.transform(count_vec.transform(mytest))"
   ]
  },
  {
   "cell_type": "code",
   "execution_count": 28,
   "metadata": {
    "collapsed": true
   },
   "outputs": [],
   "source": [
    "myprediction=logreg.predict(my_test_tfidf)"
   ]
  },
  {
   "cell_type": "code",
   "execution_count": 33,
   "metadata": {
    "collapsed": false
   },
   "outputs": [
    {
     "data": {
      "text/plain": [
       "-1    1265\n",
       " 1     414\n",
       "Name: Sentiment, dtype: int64"
      ]
     },
     "execution_count": 33,
     "metadata": {},
     "output_type": "execute_result"
    }
   ],
   "source": [
    "frame['Sentiment']=myprediction\n",
    "frame.Sentiment.value_counts()"
   ]
  },
  {
   "cell_type": "code",
   "execution_count": 32,
   "metadata": {
    "collapsed": true
   },
   "outputs": [],
   "source": [
    "frame.to_csv('Data/demonetlatlong.csv',index=False)"
   ]
  },
  {
   "cell_type": "code",
   "execution_count": null,
   "metadata": {
    "collapsed": true
   },
   "outputs": [],
   "source": []
  }
 ],
 "metadata": {
  "kernelspec": {
   "display_name": "Python 3",
   "language": "python",
   "name": "python3"
  },
  "language_info": {
   "codemirror_mode": {
    "name": "ipython",
    "version": 3
   },
   "file_extension": ".py",
   "mimetype": "text/x-python",
   "name": "python",
   "nbconvert_exporter": "python",
   "pygments_lexer": "ipython3",
   "version": "3.6.0"
  }
 },
 "nbformat": 4,
 "nbformat_minor": 2
}
